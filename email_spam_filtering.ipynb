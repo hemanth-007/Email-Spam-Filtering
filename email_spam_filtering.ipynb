{
 "cells": [
  {
   "cell_type": "markdown",
   "metadata": {},
   "source": [
    "<h1> Email Spam Filtering using Naive Bayes Algorithm</h1>"
   ]
  },
  {
   "cell_type": "code",
   "execution_count": 1,
   "metadata": {},
   "outputs": [],
   "source": [
    "#Import all the Necessary Libraries\n",
    "import os\n",
    "import email\n",
    "import numpy as np\n",
    "from sklearn.model_selection import train_test_split\n",
    "from email import policy, parser\n",
    "from bs4 import BeautifulSoup\n",
    "from html import unescape\n",
    "from collections import Counter\n",
    "from scipy.sparse import csr_matrix\n",
    "import urlextract\n",
    "import re\n",
    "import nltk\n",
    "import scipy\n",
    "from matplotlib import pyplot as plt\n",
    "from sklearn.model_selection import cross_val_predict, cross_val_score\n",
    "from sklearn.metrics import precision_score, recall_score, f1_score, accuracy_score, confusion_matrix\n",
    "import seaborn as sns"
   ]
  },
  {
   "cell_type": "code",
   "execution_count": 2,
   "metadata": {},
   "outputs": [],
   "source": [
    "SPAM_DIR = \"spam\"\n",
    "HAM_DIR = \"easy_ham\"\n",
    "spam_filenames = [filename for filename in os.listdir(SPAM_DIR)]\n",
    "ham_filenames = [filename for filename in os.listdir(HAM_DIR)]"
   ]
  },
  {
   "cell_type": "code",
   "execution_count": 3,
   "metadata": {
    "scrolled": false
   },
   "outputs": [
    {
     "data": {
      "image/png": "[encoded data removed]",
      "text/plain": [
       "<Figure size 432x288 with 1 Axes>"
      ]
     },
     "metadata": {
      "needs_background": "light"
     },
     "output_type": "display_data"
    }
   ],
   "source": [
    "labels = ['ham', 'spam']\n",
    "counts = [len(ham_filenames), len(spam_filenames)]\n",
    "ypos = np.arange(len(labels))\n",
    "plt.bar(ypos, counts)\n",
    "plt.xticks(ypos, labels)\n",
    "plt.ylabel(\"Count\")\n",
    "plt.title(\"No.of spam and ham emais in dataset\")\n",
    "plt.show()"
   ]
  },
  {
   "cell_type": "markdown",
   "metadata": {},
   "source": [
    "<h4> Using Python's email module to parse these emails </h4>"
   ]
  },
  {
   "cell_type": "code",
   "execution_count": 4,
   "metadata": {},
   "outputs": [],
   "source": [
    "def load_email(is_spam, filename):\n",
    "    directory = \"spam\" if is_spam else \"easy_ham\"\n",
    "    with open(os.path.join(directory, filename), \"rb\") as file:\n",
    "        return parser.BytesParser(policy = policy.default).parse(file)"
   ]
  },
  {
   "cell_type": "code",
   "execution_count": 5,
   "metadata": {},
   "outputs": [],
   "source": [
    "ham_emails = [load_email(False, name) for name in ham_filenames]\n",
    "spam_emails = [load_email(True, name) for name in spam_filenames]"
   ]
  },
  {
   "cell_type": "code",
   "execution_count": 6,
   "metadata": {
    "scrolled": true
   },
   "outputs": [
    {
     "data": {
      "text/plain": [
       "'Date:        Wed, 21 Aug 2002 10:54:46 -0500\\n    From:        Chris Garrigues <cwg-dated-1030377287.06fa6d@DeepEddy.Com>\\n    Message-ID:  <1029945287.4797.TMDA@deepeddy.vircio.com>\\n\\n\\n  | I can\\'t reproduce this error.\\n\\nFor me it is very repeatable... (like every time, without fail).\\n\\nThis is the debug log of the pick happening ...\\n\\n18:19:03 Pick_It {exec pick +inbox -list -lbrace -lbrace -subject ftp -rbrace -rbrace} {4852-4852 -sequence mercury}\\n18:19:03 exec pick +inbox -list -lbrace -lbrace -subject ftp -rbrace -rbrace 4852-4852 -sequence mercury\\n18:19:04 Ftoc_PickMsgs {{1 hit}}\\n18:19:04 Marking 1 hits\\n18:19:04 tkerror: syntax error in expression \"int ...\\n\\nNote, if I run the pick command by hand ...\\n\\ndelta$ pick +inbox -list -lbrace -lbrace -subject ftp -rbrace -rbrace  4852-4852 -sequence mercury\\n1 hit\\n\\nThat\\'s where the \"1 hit\" comes from (obviously).  The version of nmh I\\'m\\nusing is ...\\n\\ndelta$ pick -version\\npick -- nmh-1.0.4 [compiled on fuchsia.cs.mu.OZ.AU at Sun Mar 17 14:55:56 ICT 2002]\\n\\nAnd the relevant part of my .mh_profile ...\\n\\ndelta$ mhparam pick\\n-seq sel -list\\n\\n\\nSince the pick command works, the sequence (actually, both of them, the\\none that\\'s explicit on the command line, from the search popup, and the\\none that comes from .mh_profile) do get created.\\n\\nkre\\n\\nps: this is still using the version of the code form a day ago, I haven\\'t\\nbeen able to reach the cvs repository today (local routing issue I think).\\n\\n\\n\\n_______________________________________________\\nExmh-workers mailing list\\nExmh-workers@redhat.com\\nhttps://listman.redhat.com/mailman/listinfo/exmh-workers'"
      ]
     },
     "execution_count": 6,
     "metadata": {},
     "output_type": "execute_result"
    }
   ],
   "source": [
    "ham_emails[0].get_content().strip()"
   ]
  },
  {
   "cell_type": "code",
   "execution_count": 7,
   "metadata": {
    "scrolled": false
   },
   "outputs": [
    {
     "data": {
      "text/plain": [
       "\"1) Fight The Risk of Cancer!\\nhttp://www.adclick.ws/p.cfm?o=315&s=pk007\\n\\n2) Slim Down - Guaranteed to lose 10-12 lbs in 30 days\\nhttp://www.adclick.ws/p.cfm?o=249&s=pk007\\n\\n3) Get the Child Support You Deserve - Free Legal Advice\\nhttp://www.adclick.ws/p.cfm?o=245&s=pk002\\n\\n4) Join the Web's Fastest Growing Singles Community\\nhttp://www.adclick.ws/p.cfm?o=259&s=pk007\\n\\n5) Start Your Private Photo Album Online!\\nhttp://www.adclick.ws/p.cfm?o=283&s=pk007\\n\\nHave a Wonderful Day,\\nOffer Manager\\nPrizeMama\\n\\n\\n\\n\\n\\n\\n\\n\\n\\n\\n\\n\\n\\nIf you wish to leave this list please use the link below.\\nhttp://www.qves.com/trim/?zzzz@spamassassin.taint.org%7C17%7C308417\""
      ]
     },
     "execution_count": 7,
     "metadata": {},
     "output_type": "execute_result"
    }
   ],
   "source": [
    "spam_emails[2].get_content().strip()"
   ]
  },
  {
   "cell_type": "markdown",
   "metadata": {},
   "source": [
    "<h4>Emails contain plain text, html, images and some other attachments"
   ]
  },
  {
   "cell_type": "code",
   "execution_count": 8,
   "metadata": {},
   "outputs": [],
   "source": [
    "def get_email_structure(email):\n",
    "    if isinstance(email, str):\n",
    "        return email\n",
    "    payload = email.get_payload()\n",
    "    if isinstance(payload, list):\n",
    "        return \"multipart({})\".format(\", \".join([\n",
    "            get_email_structure(sub_email)\n",
    "            for sub_email in payload\n",
    "        ]))\n",
    "    else:\n",
    "        return email.get_content_type()"
   ]
  },
  {
   "cell_type": "code",
   "execution_count": 9,
   "metadata": {},
   "outputs": [],
   "source": [
    "\n",
    "def structures_counter(emails):\n",
    "    structures = Counter()\n",
    "    for email in emails:\n",
    "        structure = get_email_structure(email)\n",
    "        structures[structure] += 1\n",
    "    return structures"
   ]
  },
  {
   "cell_type": "code",
   "execution_count": 10,
   "metadata": {
    "scrolled": false
   },
   "outputs": [
    {
     "data": {
      "text/plain": [
       "[('text/plain', 2409),\n",
       " ('multipart(text/plain, application/pgp-signature)', 66),\n",
       " ('multipart(text/plain, text/html)', 8),\n",
       " ('multipart(text/plain, text/plain)', 4),\n",
       " ('multipart(text/plain)', 3),\n",
       " ('multipart(text/plain, application/octet-stream)', 2),\n",
       " ('multipart(text/plain, text/enriched)', 1),\n",
       " ('multipart(text/plain, application/ms-tnef, text/plain)', 1),\n",
       " ('multipart(multipart(text/plain, text/plain, text/plain), application/pgp-signature)',\n",
       "  1),\n",
       " ('multipart(text/plain, video/mng)', 1),\n",
       " ('multipart(text/plain, multipart(text/plain))', 1),\n",
       " ('multipart(text/plain, application/x-pkcs7-signature)', 1),\n",
       " ('multipart(text/plain, multipart(text/plain, text/plain), text/rfc822-headers)',\n",
       "  1),\n",
       " ('multipart(text/plain, multipart(text/plain, text/plain), multipart(multipart(text/plain, application/x-pkcs7-signature)))',\n",
       "  1),\n",
       " ('multipart(text/plain, application/x-java-applet)', 1)]"
      ]
     },
     "execution_count": 10,
     "metadata": {},
     "output_type": "execute_result"
    }
   ],
   "source": [
    "structures_counter(ham_emails).most_common()"
   ]
  },
  {
   "cell_type": "code",
   "execution_count": 11,
   "metadata": {
    "scrolled": true
   },
   "outputs": [
    {
     "data": {
      "text/plain": [
       "[('text/plain', 219),\n",
       " ('text/html', 183),\n",
       " ('multipart(text/plain, text/html)', 45),\n",
       " ('multipart(text/html)', 20),\n",
       " ('multipart(text/plain)', 19),\n",
       " ('multipart(multipart(text/html))', 5),\n",
       " ('multipart(text/plain, image/jpeg)', 3),\n",
       " ('multipart(text/html, application/octet-stream)', 2),\n",
       " ('multipart(text/plain, application/octet-stream)', 1),\n",
       " ('multipart(text/html, text/plain)', 1),\n",
       " ('multipart(multipart(text/html), application/octet-stream, image/jpeg)', 1),\n",
       " ('multipart(multipart(text/plain, text/html), image/gif)', 1),\n",
       " ('multipart/alternative', 1)]"
      ]
     },
     "execution_count": 11,
     "metadata": {},
     "output_type": "execute_result"
    }
   ],
   "source": [
    "structures_counter(spam_emails).most_common()"
   ]
  },
  {
   "cell_type": "code",
   "execution_count": 12,
   "metadata": {},
   "outputs": [
    {
     "name": "stderr",
     "output_type": "stream",
     "text": [
      "<ipython-input-12-a4bf27d20c43>:1: VisibleDeprecationWarning: Creating an ndarray from ragged nested sequences (which is a list-or-tuple of lists-or-tuples-or ndarrays with different lengths or shapes) is deprecated. If you meant to do this, you must specify 'dtype=object' when creating the ndarray\n",
      "  X = np.array(ham_emails + spam_emails)\n"
     ]
    }
   ],
   "source": [
    "X = np.array(ham_emails + spam_emails)\n",
    "y = np.array([0] * len(ham_emails) + [1] * len(spam_emails))\n",
    "X_train, X_test, y_train, y_test = train_test_split(X, y, test_size = 0.2, random_state = 10)"
   ]
  },
  {
   "cell_type": "markdown",
   "metadata": {},
   "source": [
    "<h4> Using BeautifulSoup Library to convert html into plain text"
   ]
  },
  {
   "cell_type": "code",
   "execution_count": 13,
   "metadata": {},
   "outputs": [],
   "source": [
    "def html_to_plain_text(html):\n",
    "    soup = BeautifulSoup(html)\n",
    "    text = soup.get_text(separator = '\\n', strip = True)\n",
    "    text = text.replace('\\n', \" \")\n",
    "    text = unescape(text)\n",
    "    text = text.replace(\"  \", \"\")\n",
    "    text = text.replace(\"_\", \"\")\n",
    "    return text"
   ]
  },
  {
   "cell_type": "code",
   "execution_count": 14,
   "metadata": {},
   "outputs": [],
   "source": [
    "html_spam_emails = [email for email in spam_emails if get_email_structure(email) == \"text/html\"]"
   ]
  },
  {
   "cell_type": "code",
   "execution_count": 15,
   "metadata": {
    "scrolled": true
   },
   "outputs": [
    {
     "data": {
      "text/plain": [
       "'<!DOCTYPE HTML PUBLIC \"-//W3C//DTD HTML 4.0 Transitional//EN\">\\n<HTML><HEAD>\\n<META content=\"text/html; charset=windows-1252\" http-equiv=Content-Type>\\n<META content=\"MSHTML 5.00.2314.1000\" name=GENERATOR></HEAD>\\n<BODY><!-- Inserted by Calypso -->\\n<TABLE border=0 cellPadding=0 cellSpacing=2 id=_CalyPrintHeader_ rules=none \\nstyle=\"COLOR: black; DISPLAY: none\" width=\"100%\">\\n  <TBODY>\\n  <TR>\\n    <TD colSpan=3>\\n      <HR color=black noShade SIZE=1>\\n    </TD></TR></TD></TR>\\n  <TR>\\n    <TD colSpan=3>\\n      <HR color=black noShade SIZE=1>\\n    </TD></TR></TBODY></TABLE><!-- End Calypso --><!-- Inserted by Calypso --><FONT \\ncolor=#000000 face=VERDANA,ARIAL,HELVETICA size=-2><BR></FONT></TD></TR></TABLE><!-- End Calypso --><FONT color=#ff0000 \\nface=\"Copperplate Gothic Bold\" size=5 PTSIZE=\"10\">\\n<CENTER>Save up to 70% on Life Insurance.</CENTER></FONT><FONT color=#ff0000 \\nface=\"Copperplate Gothic Bold\" size=5 PTSIZE=\"10\">\\n<CENTER>Why Spend More Than You Have To?\\n<CENTER><FONT color=#ff0000 face=\"Copp'"
      ]
     },
     "execution_count": 15,
     "metadata": {},
     "output_type": "execute_result"
    }
   ],
   "source": [
    "html_spam_emails[0].get_content().strip()[:1000]"
   ]
  },
  {
   "cell_type": "code",
   "execution_count": 16,
   "metadata": {},
   "outputs": [
    {
     "data": {
      "text/plain": [
       "'Dear ricardo1 , COST EFFECTIVE Direct Email Advertising Promote Your Business For As Low As $50 Per 1 Million Email Addresses MAXIMIZE YOUR MARKETING DOLLARS! Complete and fax this information form to 309-407-7378. A Consultant will contact you to discuss your marketing needs. NAME: COMPANY: ADDRESS: CITY: STATE: PHONE: E-MAIL: WEBSITE: (Not Required)    * COMMENTS: (Provide details, pricing, etc. on the products and services you wish to market)     [247(^(PO1:KJ)8J7BJK9^\":}H&*TG0BK5NKIYs5]'"
      ]
     },
     "execution_count": 16,
     "metadata": {},
     "output_type": "execute_result"
    }
   ],
   "source": [
    "html_to_plain_text(html_spam_emails[2].get_content())"
   ]
  },
  {
   "cell_type": "code",
   "execution_count": 17,
   "metadata": {},
   "outputs": [],
   "source": [
    "def email_to_text(email):\n",
    "    html = None\n",
    "    for part in email.walk():\n",
    "        ctype = part.get_content_type()\n",
    "        if not ctype in (\"text/plain\", \"text/html\"):\n",
    "            continue\n",
    "        try:\n",
    "            content = part.get_content()\n",
    "        except:\n",
    "            content = str(part.get_payload())\n",
    "        if ctype == \"text/plain\":\n",
    "            return content.replace(\"_\", \"\")\n",
    "        else:\n",
    "            html = content\n",
    "    if html:\n",
    "        return html_to_plain_text(html)"
   ]
  },
  {
   "cell_type": "code",
   "execution_count": 18,
   "metadata": {},
   "outputs": [
    {
     "name": "stdout",
     "output_type": "stream",
     "text": [
      "Dear ricardo1 , COST EFFECTIVE Direct Email Advertising Promote Your Business For As Low As $50 Per 1 Million Email Addresses MAXIMIZE YOUR MARKETING DOLLARS! Complete and fax this information form to 309-407-7378. A Consultant will contact you to discuss your marketing needs. NAME: COMPANY: ADDRESS: CITY: STATE: PHONE: E-MAIL: WEBSITE: (Not Required)    * COMMENTS: (Provide details, pricing, etc. on the products and services you wish to market)     [247(^(PO1:KJ)8J7BJK9^\":}H&*TG0BK5NKIYs5]\n"
     ]
    }
   ],
   "source": [
    "print(email_to_text(html_spam_emails[2]))"
   ]
  },
  {
   "cell_type": "code",
   "execution_count": 19,
   "metadata": {},
   "outputs": [],
   "source": [
    "stemmer = nltk.PorterStemmer()\n",
    "url_extractor = urlextract.URLExtract()"
   ]
  },
  {
   "cell_type": "markdown",
   "metadata": {},
   "source": [
    "<h4> Convert Emails to word Counters using a custom Transformer"
   ]
  },
  {
   "cell_type": "code",
   "execution_count": 20,
   "metadata": {},
   "outputs": [],
   "source": [
    "from sklearn.base import BaseEstimator, TransformerMixin\n",
    "\n",
    "class EmailToWordCounterTransformer(BaseEstimator, TransformerMixin):\n",
    "    def __init__(self):\n",
    "        self.stemmer = nltk.PorterStemmer()\n",
    "        self.url_extractor = urlextract.URLExtract()\n",
    "    def fit(self, X, y=None):\n",
    "        return self\n",
    "    def transform(self, X, y=None):\n",
    "        X_transformed = []\n",
    "        for email in X:\n",
    "            text = email_to_text(email) or \"\"\n",
    "            text = text.lower()\n",
    "            urls = url_extractor.find_urls(text)\n",
    "            for url in urls:\n",
    "                text = text.replace(url, \" URL \")\n",
    "            text = re.sub(r'\\d+(?:\\.\\d*(?:[eE]\\d+))?', 'NUMBER', text)\n",
    "            text = re.sub(r'\\W+', ' ', text)\n",
    "            word_counts = Counter(text.split())\n",
    "            stemmed_word_counts = Counter()\n",
    "            for word, count in word_counts.items():\n",
    "                stemmed_word = stemmer.stem(word)\n",
    "                stemmed_word_counts[stemmed_word] += count\n",
    "            X_transformed.append(stemmed_word_counts)\n",
    "        return np.array(X_transformed)"
   ]
  },
  {
   "cell_type": "code",
   "execution_count": 21,
   "metadata": {},
   "outputs": [],
   "source": [
    "X_sample_test = EmailToWordCounterTransformer().fit_transform(X_train[:3])"
   ]
  },
  {
   "cell_type": "code",
   "execution_count": 22,
   "metadata": {},
   "outputs": [
    {
     "data": {
      "text/plain": [
       "Counter({'onc': 1,\n",
       "         'upon': 1,\n",
       "         'a': 9,\n",
       "         'time': 3,\n",
       "         'angl': 1,\n",
       "         'wrote': 1,\n",
       "         'when': 1,\n",
       "         'i': 14,\n",
       "         'went': 1,\n",
       "         'all': 5,\n",
       "         'open': 1,\n",
       "         'sourc': 1,\n",
       "         'stop': 1,\n",
       "         'use': 5,\n",
       "         'my': 5,\n",
       "         'old': 3,\n",
       "         'partion': 2,\n",
       "         'app': 2,\n",
       "         'partit': 5,\n",
       "         'magic': 1,\n",
       "         'for': 4,\n",
       "         'the': 10,\n",
       "         'rhnumber': 2,\n",
       "         'instal': 6,\n",
       "         'fip': 1,\n",
       "         'coupl': 1,\n",
       "         'then': 3,\n",
       "         'extnumb': 1,\n",
       "         'came': 1,\n",
       "         'out': 1,\n",
       "         'and': 10,\n",
       "         'commerci': 1,\n",
       "         'is': 4,\n",
       "         'real': 1,\n",
       "         'so': 5,\n",
       "         'ask': 1,\n",
       "         'what': 1,\n",
       "         'os': 1,\n",
       "         'softwar': 1,\n",
       "         'can': 7,\n",
       "         'non': 1,\n",
       "         'destruct': 2,\n",
       "         'repartit': 1,\n",
       "         'hd': 1,\n",
       "         'put': 3,\n",
       "         'home': 4,\n",
       "         'on': 3,\n",
       "         'seper': 1,\n",
       "         'now': 1,\n",
       "         'part': 1,\n",
       "         'your': 2,\n",
       "         'friend': 1,\n",
       "         'you': 11,\n",
       "         't': 3,\n",
       "         'do': 2,\n",
       "         'everyth': 2,\n",
       "         'most': 1,\n",
       "         'limit': 1,\n",
       "         'be': 2,\n",
       "         'that': 5,\n",
       "         'move': 1,\n",
       "         'start': 1,\n",
       "         'of': 3,\n",
       "         'but': 2,\n",
       "         'it': 5,\n",
       "         's': 5,\n",
       "         'quit': 1,\n",
       "         'power': 1,\n",
       "         'nevertheless': 1,\n",
       "         've': 3,\n",
       "         'been': 1,\n",
       "         'veri': 1,\n",
       "         'happi': 1,\n",
       "         'with': 3,\n",
       "         'few': 1,\n",
       "         'had': 2,\n",
       "         'to': 11,\n",
       "         'if': 3,\n",
       "         'didn': 1,\n",
       "         'separ': 1,\n",
       "         'winbloz': 2,\n",
       "         'numberx': 1,\n",
       "         'deltre': 1,\n",
       "         'dir': 2,\n",
       "         'some': 3,\n",
       "         'program': 1,\n",
       "         'file': 7,\n",
       "         'fresh': 1,\n",
       "         'instead': 1,\n",
       "         'upgrad': 2,\n",
       "         'while': 1,\n",
       "         'save': 2,\n",
       "         'other': 1,\n",
       "         'data': 1,\n",
       "         'thi': 3,\n",
       "         'trick': 1,\n",
       "         'exampl': 2,\n",
       "         'rpm': 3,\n",
       "         'e': 1,\n",
       "         'packag': 1,\n",
       "         'are': 1,\n",
       "         'gone': 1,\n",
       "         'hit': 1,\n",
       "         'reset': 1,\n",
       "         'button': 1,\n",
       "         'boot': 2,\n",
       "         'redhat': 1,\n",
       "         'cdrom': 1,\n",
       "         'in': 3,\n",
       "         'admin': 1,\n",
       "         'rescu': 1,\n",
       "         'mode': 1,\n",
       "         'delet': 1,\n",
       "         'those': 1,\n",
       "         'config': 1,\n",
       "         'left': 1,\n",
       "         'like': 1,\n",
       "         'etc': 5,\n",
       "         'an': 2,\n",
       "         'not': 1,\n",
       "         'format': 2,\n",
       "         'singl': 1,\n",
       "         'm': 1,\n",
       "         'hack': 1,\n",
       "         'detail': 1,\n",
       "         'theori': 1,\n",
       "         'accur': 1,\n",
       "         'or': 3,\n",
       "         'will': 1,\n",
       "         'rh': 1,\n",
       "         'want': 2,\n",
       "         'elim': 1,\n",
       "         'exist': 1,\n",
       "         're': 2,\n",
       "         'realli': 1,\n",
       "         'better': 1,\n",
       "         'off': 1,\n",
       "         'backup': 2,\n",
       "         'place': 2,\n",
       "         'where': 2,\n",
       "         'know': 1,\n",
       "         'hand': 1,\n",
       "         'edit': 1,\n",
       "         'me': 1,\n",
       "         'onli': 2,\n",
       "         'root': 1,\n",
       "         'reinstal': 1,\n",
       "         'cleanli': 1,\n",
       "         'back': 1,\n",
       "         'into': 1,\n",
       "         'readi': 1,\n",
       "         'go': 1,\n",
       "         'moment': 1,\n",
       "         'usual': 1,\n",
       "         'realiz': 1,\n",
       "         'nifti': 1,\n",
       "         'tweak': 1,\n",
       "         'sysconfig': 1,\n",
       "         'network': 2,\n",
       "         'script': 1,\n",
       "         'special': 2,\n",
       "         'paramet': 2,\n",
       "         'ad': 1,\n",
       "         'modul': 1,\n",
       "         'conf': 3,\n",
       "         'entri': 1,\n",
       "         'look': 1,\n",
       "         'at': 1,\n",
       "         'make': 1,\n",
       "         'same': 1,\n",
       "         'chang': 1,\n",
       "         'again': 1,\n",
       "         'thing': 1,\n",
       "         'get': 1,\n",
       "         'stuck': 1,\n",
       "         'grub': 3,\n",
       "         'becaus': 1,\n",
       "         'although': 1,\n",
       "         'there': 1,\n",
       "         'link': 1,\n",
       "         'actual': 1,\n",
       "         'may': 1,\n",
       "         'copi': 1,\n",
       "         'too': 1,\n",
       "         'have': 2,\n",
       "         'kernel': 1,\n",
       "         'pass': 1,\n",
       "         'pci': 1,\n",
       "         'bio': 1,\n",
       "         'biosirq': 1,\n",
       "         'one': 1,\n",
       "         'comput': 1,\n",
       "         'work': 1,\n",
       "         'hth': 1,\n",
       "         'matthia': 2,\n",
       "         'saou': 1,\n",
       "         'world': 1,\n",
       "         'trade': 1,\n",
       "         'center': 1,\n",
       "         'edificio': 1,\n",
       "         'nort': 1,\n",
       "         'number': 7,\n",
       "         'planta': 1,\n",
       "         'system': 1,\n",
       "         'engin': 1,\n",
       "         'barcelona': 1,\n",
       "         'spain': 1,\n",
       "         'electron': 1,\n",
       "         'group': 1,\n",
       "         'interact': 1,\n",
       "         'phone': 1,\n",
       "         'list': 3,\n",
       "         'mail': 1,\n",
       "         'freshrpm': 1,\n",
       "         'net': 1,\n",
       "         'url': 1})"
      ]
     },
     "execution_count": 22,
     "metadata": {},
     "output_type": "execute_result"
    }
   ],
   "source": [
    "X_sample_test[1]"
   ]
  },
  {
   "cell_type": "markdown",
   "metadata": {},
   "source": [
    "<h4> Convert word Vectors to a matrix of TF-IDF features"
   ]
  },
  {
   "cell_type": "code",
   "execution_count": 23,
   "metadata": {},
   "outputs": [],
   "source": [
    "class WordCounterToVectorTransformer(BaseEstimator, TransformerMixin):\n",
    "    def __init__(self, vocabulary_size=1000):\n",
    "        self.vocabulary_size = vocabulary_size\n",
    "    def fit(self, X, y=None):\n",
    "        total_count = Counter()\n",
    "        for word_count in X:\n",
    "            for word, count in word_count.items():\n",
    "                total_count[word] += min(count, 10)\n",
    "        most_common = total_count.most_common()[:self.vocabulary_size]\n",
    "        self.most_common_ = most_common\n",
    "        self.vocabulary = {word: index + 1 for index, (word, count) in enumerate(most_common)}\n",
    "        return self\n",
    "    def transform(self, X, y=None):\n",
    "        rows = []\n",
    "        cols = []\n",
    "        data = []\n",
    "        for row, word_count in enumerate(X):\n",
    "            for word, count in word_count.items():\n",
    "                rows.append(row)\n",
    "                cols.append(self.vocabulary.get(word, 0))\n",
    "                data.append(count)\n",
    "        return csr_matrix((data, (rows, cols)), shape=(len(X), self.vocabulary_size + 1))"
   ]
  },
  {
   "cell_type": "code",
   "execution_count": 24,
   "metadata": {},
   "outputs": [
    {
     "data": {
      "text/plain": [
       "<3x11 sparse matrix of type '<class 'numpy.intc'>'\n",
       "\twith 31 stored elements in Compressed Sparse Row format>"
      ]
     },
     "execution_count": 24,
     "metadata": {},
     "output_type": "execute_result"
    }
   ],
   "source": [
    "vocab_transformer = WordCounterToVectorTransformer(vocabulary_size=10)\n",
    "X_sparce_matrix = vocab_transformer.fit_transform(X_sample_test)\n",
    "X_sparce_matrix"
   ]
  },
  {
   "cell_type": "code",
   "execution_count": 25,
   "metadata": {},
   "outputs": [
    {
     "data": {
      "text/plain": [
       "array([[143,   6,   6,  21,   0,   3,   2,   2,   2,   0,   2],\n",
       "       [321,  10,  10,   7,  14,  11,  11,   9,   5,   7,   3],\n",
       "       [125,   9,   5,   1,   6,   2,   1,   1,   5,   3,   3]],\n",
       "      dtype=int32)"
      ]
     },
     "execution_count": 25,
     "metadata": {},
     "output_type": "execute_result"
    }
   ],
   "source": [
    "X_sparce_matrix.toarray()"
   ]
  },
  {
   "cell_type": "code",
   "execution_count": 26,
   "metadata": {
    "scrolled": true
   },
   "outputs": [
    {
     "data": {
      "text/plain": [
       "{'the': 1,\n",
       " 'and': 2,\n",
       " 'number': 3,\n",
       " 'i': 4,\n",
       " 'to': 5,\n",
       " 'you': 6,\n",
       " 'a': 7,\n",
       " 'it': 8,\n",
       " 'can': 9,\n",
       " 'list': 10}"
      ]
     },
     "execution_count": 26,
     "metadata": {},
     "output_type": "execute_result"
    }
   ],
   "source": [
    "vocab_transformer.vocabulary"
   ]
  },
  {
   "cell_type": "markdown",
   "metadata": {},
   "source": [
    "<h4> Build a pipeline to transform the Dataset"
   ]
  },
  {
   "cell_type": "code",
   "execution_count": 27,
   "metadata": {},
   "outputs": [],
   "source": [
    "from sklearn.pipeline import Pipeline\n",
    "\n",
    "preprocess_pipeline = Pipeline([\n",
    "    (\"email_to_wordcount\", EmailToWordCounterTransformer()),\n",
    "    (\"wordcount_to_vector\", WordCounterToVectorTransformer()),\n",
    "])\n",
    "\n",
    "X_train_transformed = preprocess_pipeline.fit_transform(X_train)"
   ]
  },
  {
   "cell_type": "code",
   "execution_count": 28,
   "metadata": {},
   "outputs": [],
   "source": [
    "from sklearn.naive_bayes import MultinomialNB"
   ]
  },
  {
   "cell_type": "code",
   "execution_count": 29,
   "metadata": {},
   "outputs": [],
   "source": [
    "naive_bayes_clf = MultinomialNB()\n",
    "scores = cross_val_score(naive_bayes_clf,\n",
    "                         X_train_transformed,\n",
    "                         y_train,\n",
    "                         cv = 5,\n",
    "                         scoring = 'accuracy',\n",
    "                        n_jobs = -1)"
   ]
  },
  {
   "cell_type": "code",
   "execution_count": 30,
   "metadata": {
    "scrolled": true
   },
   "outputs": [
    {
     "name": "stdout",
     "output_type": "stream",
     "text": [
      "[0.97297297 0.975      0.98541667 0.97916667 0.97916667]\n",
      "0.9783445945945946\n"
     ]
    }
   ],
   "source": [
    "print(scores)\n",
    "print(scores.mean())"
   ]
  },
  {
   "cell_type": "code",
   "execution_count": 31,
   "metadata": {},
   "outputs": [
    {
     "data": {
      "text/plain": [
       "array([[1976,   16],\n",
       "       [  36,  373]], dtype=int64)"
      ]
     },
     "execution_count": 31,
     "metadata": {},
     "output_type": "execute_result"
    }
   ],
   "source": [
    "y_pred = cross_val_predict(naive_bayes_clf, X_train_transformed, y_train, cv = 3)\n",
    "conf_mat = confusion_matrix(y_train, y_pred)\n",
    "conf_mat"
   ]
  },
  {
   "cell_type": "code",
   "execution_count": 32,
   "metadata": {},
   "outputs": [
    {
     "data": {
      "image/png": "[encoded data removed]",
      "text/plain": [
       "<Figure size 432x288 with 2 Axes>"
      ]
     },
     "metadata": {
      "needs_background": "light"
     },
     "output_type": "display_data"
    }
   ],
   "source": [
    "#Heatmap for confusion Matrix\n",
    "\n",
    "group_names = ['True Neg','False Pos','False Neg','True Pos']\n",
    "group_counts = [\"{0:0.0f}\".format(value) for value in\n",
    "                conf_mat.flatten()]\n",
    "group_percentages = [\"{0:.2%}\".format(value) for value in\n",
    "                     conf_mat.flatten()/np.sum(conf_mat)]\n",
    "labels = [f\"{v1}\\n{v2}\\n{v3}\" for v1, v2, v3 in\n",
    "          zip(group_names,group_counts,group_percentages)]\n",
    "labels = np.asarray(labels).reshape(2,2)\n",
    "sns.heatmap(conf_mat, annot=labels, fmt='', cmap='twilight_shifted_r')\n",
    "plt.show()"
   ]
  },
  {
   "cell_type": "code",
   "execution_count": 33,
   "metadata": {
    "scrolled": true
   },
   "outputs": [
    {
     "name": "stdout",
     "output_type": "stream",
     "text": [
      "Precision: 95.89%\n",
      "Recall: 91.20%\n",
      "F1-Score: 93.48%\n"
     ]
    }
   ],
   "source": [
    "print(\"Precision: {:.2f}%\".format(100 * precision_score(y_train, y_pred)))\n",
    "print(\"Recall: {:.2f}%\".format(100 * recall_score(y_train, y_pred)))\n",
    "print(\"F1-Score: {:.2f}%\".format(100 * f1_score(y_train, y_pred)))"
   ]
  },
  {
   "cell_type": "code",
   "execution_count": 34,
   "metadata": {},
   "outputs": [],
   "source": [
    "from sklearn.metrics import precision_recall_curve\n",
    "precisions, recalls, thresholds = precision_recall_curve(y_train, y_pred)"
   ]
  },
  {
   "cell_type": "code",
   "execution_count": 35,
   "metadata": {},
   "outputs": [],
   "source": [
    "def plot_precision_recall_vs_threshold(precisions, recalls, thresholds):\n",
    "    plt.plot(thresholds, precisions[:-1], \"b-\", label = \"Precission\")\n",
    "    plt.plot(thresholds, recalls[:-1], 'g-', label = \"Recall\")\n",
    "    plt.xlabel(\"Threshold\")\n",
    "    plt.legend(loc = \"upper left\")\n",
    "    plt.ylim([0, 1])"
   ]
  },
  {
   "cell_type": "code",
   "execution_count": 36,
   "metadata": {
    "scrolled": true
   },
   "outputs": [
    {
     "data": {
      "image/png": "[encoded data removed]",
      "text/plain": [
       "<Figure size 432x288 with 1 Axes>"
      ]
     },
     "metadata": {
      "needs_background": "light"
     },
     "output_type": "display_data"
    }
   ],
   "source": [
    "plot_precision_recall_vs_threshold(precisions, recalls, thresholds)"
   ]
  },
  {
   "cell_type": "markdown",
   "metadata": {},
   "source": [
    "<h4> Evaluation on Test Dataset"
   ]
  },
  {
   "cell_type": "code",
   "execution_count": 37,
   "metadata": {},
   "outputs": [
    {
     "name": "stdout",
     "output_type": "stream",
     "text": [
      "Accuracy: 97.84%\n",
      "Precision: 94.38%\n",
      "Recall: 91.30%\n"
     ]
    }
   ],
   "source": [
    "X_test_transformed = preprocess_pipeline.transform(X_test)\n",
    "\n",
    "naive_bayes_clf.fit(X_train_transformed, y_train)\n",
    "y_pred = naive_bayes_clf.predict(X_test_transformed)\n",
    "print(\"Accuracy: {:.2f}%\".format(100 * accuracy_score(y_test, y_pred)))\n",
    "print(\"Precision: {:.2f}%\".format(100 * precision_score(y_test, y_pred)))\n",
    "print(\"Recall: {:.2f}%\".format(100 * recall_score(y_test, y_pred)))"
   ]
  },
  {
   "cell_type": "code",
   "execution_count": null,
   "metadata": {},
   "outputs": [],
   "source": []
  }
 ],
 "metadata": {
  "kernelspec": {
   "display_name": "Python 3",
   "language": "python",
   "name": "python3"
  },
  "language_info": {
   "codemirror_mode": {
    "name": "ipython",
    "version": 3
   },
   "file_extension": ".py",
   "mimetype": "text/x-python",
   "name": "python",
   "nbconvert_exporter": "python",
   "pygments_lexer": "ipython3",
   "version": "3.8.5"
  }
 },
 "nbformat": 4,
 "nbformat_minor": 4
}
